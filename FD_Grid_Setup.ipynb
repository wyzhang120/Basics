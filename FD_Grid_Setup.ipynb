{
 "cells": [
  {
   "cell_type": "markdown",
   "metadata": {},
   "source": [
    "# Setting up finite difference for wave equation"
   ]
  },
  {
   "cell_type": "markdown",
   "metadata": {},
   "source": [
    "# Grid dispersion\n",
    "Spatial constraint (P15 IFOS2D mannual)\n",
    "$$\\large dh \\leq \\frac{\\lambda_{min}}{n}\\, =\\, \\frac{v_{min}}{nf_{max}} $$\n",
    "where n is a constant related to the order of FD.\n",
    "\n",
    "\n",
    "# CFL (Courant-Friedichs-Lewy) criterion\n",
    "Temporal constraints for 2D grid (P18 IFOS2D mannual)\n",
    "$$\\large dt \\leq \\frac{dh}{\\sqrt{2}hv_{max}}$$\n",
    "where dh is the grid size; h is a constrant related to the order of FD.\n",
    "\n",
    "FD Order | n | h|\n",
    "---|---|---|\n",
    "2nd | 12 | 1.\n",
    "4th | 8|7/6\n",
    "6th | 6| 149/120\n",
    "8th | 5| 2161/1680\n",
    "\n",
    "# $\\large {f_{Nquist}, \\,f_{max} \\text{and } f_c}$\n",
    "\n",
    "Let $f_c$ be the central frequency of Ricker wavelet and $f_{max}$ be the max frequency of source wavelet.\n",
    "\n",
    "If using Ricker as the source wavelet, it must be satisfied that\n",
    "$$\\large f_{Nquist} \\geq f_{max} = af_c $$\n",
    "or,\n",
    "$$\\large dt \\leq \\frac{1}{2af_c}$$\n",
    "where a is $\\large a=\\frac{f_{max}}{f_c}$. Let $\\large r = \\frac{Amp\\big(f_{max}\\big)}{Max\\big(Amp\\big)}$. When $f_{max}>2.76f_c$, \\, $Amp/Amp\\big(f_c\\big) < 10^{-2}$. To get a proper Ricker wavelet, $\\, f_{max}$ should be at least $\\,2.76\\,f_c$ for numerial modeling. Therefore,\n",
    "\n",
    "$$\\large dh \\leq \\frac{v_{min}}{naf_c}, \\,  \\large dt \\leq min \\bigg( \\frac{1}{2a \\, f_c}, \\, \\frac{dh}{\\sqrt{2}hv_{max}}\\bigg)$$\n",
    "\n",
    "If $\\large dh = \\frac{v_{min}}{naf_c}$, $\\large \\frac{dh}{\\sqrt{2}hv_{max}} = \\frac{1}{\\sqrt{2}anhv_{max}/v_{min}} < \\frac{1}{2a \\, f_c}$. Hence,\n",
    "$$ \\large dh = \\frac{v_{min}}{naf_c}, dt =  \\frac{v_{min}}{\\sqrt{2}anhv_{max}}$$\n",
    "\n",
    "a | r |\n",
    "---| ---|\n",
    "2.21 | $10^{-1}$ \n",
    "2.76 | $10^{-2}$  \n",
    "3.20 | $10^{-3}$\n",
    "3.57 | $10^{-4}$ \n",
    "3.90 | $10^{-5}$"
   ]
  },
  {
   "cell_type": "code",
   "execution_count": 3,
   "metadata": {},
   "outputs": [
    {
     "name": "stdout",
     "output_type": "stream",
     "text": [
      "f_max/f_c =      1.00,     1.50,     2.00,     2.50,     3.00,     3.50,     4.00,     4.50,     5.00\n",
      "r         =  1.00e+00, 6.45e-01, 1.99e-01, 3.28e-02, 3.02e-03, 1.59e-04, 4.89e-06, 8.84e-08, 9.44e-10\n"
     ]
    },
    {
     "data": {
      "image/png": "[encoded data removed]",
      "text/plain": [
       "<Figure size 432x288 with 1 Axes>"
      ]
     },
     "metadata": {},
     "output_type": "display_data"
    }
   ],
   "source": [
    "# compute r(a)\n",
    "import numpy as np\n",
    "import matplotlib.pyplot as plt\n",
    "a = np.arange(1, 5.1, 0.1)\n",
    "r = a**2 * np.exp(1-a**2)\n",
    "aPrint = ', '.join(['{:8.2f}'.format(i) for i in a[::5]])\n",
    "rPrint = ', '.join(['{:.2e}'.format(i) for i in r[::5]])\n",
    "print('f_max/f_c =  {:s}'.format(aPrint))\n",
    "print('r         =  {:s}'.format(rPrint))\n",
    "plt.xlabel(r'$f_{max}/f_c$', fontsize='large')\n",
    "plt.ylabel(r'$r$',  fontsize='large')\n",
    "plt.semilogy(a, r)\n",
    "plt.show()"
   ]
  },
  {
   "cell_type": "code",
   "execution_count": 2,
   "metadata": {},
   "outputs": [
    {
     "name": "stdout",
     "output_type": "stream",
     "text": [
      "r = 1.00e-01, 1.00e-02, 1.00e-03, 1.00e-04, 1.00e-05\n",
      "a = 2.21e+00, 2.76e+00, 3.20e+00, 3.57e+00, 3.90e+00\n"
     ]
    }
   ],
   "source": [
    "# solve for a (or f/fmax) that meets the specified amplitude ratio (or A/Amax)\n",
    "from scipy.optimize import fsolve\n",
    "def F(x, *eps, ):\n",
    "    return x**2 * np.exp(1-x**2)-eps\n",
    "tol = np.logspace(-1, -5, 5)\n",
    "roots = np.zeros(len(tol))\n",
    "for i, eps in enumerate(tol):\n",
    "    roots[i] = fsolve(F, 2, eps)\n",
    "print('r = {:s}'.format(', '.join(['{:.2e}'.format(i)  for i in tol])))\n",
    "print('a = {:s}'.format(', '.join(['{:.2e}'.format(i)  for i in roots])))"
   ]
  }
 ],
 "metadata": {
  "kernelspec": {
   "display_name": "Python 3",
   "language": "python",
   "name": "python3"
  },
  "language_info": {
   "codemirror_mode": {
    "name": "ipython",
    "version": 3
   },
   "file_extension": ".py",
   "mimetype": "text/x-python",
   "name": "python",
   "nbconvert_exporter": "python",
   "pygments_lexer": "ipython3",
   "version": "3.6.6"
  }
 },
 "nbformat": 4,
 "nbformat_minor": 2
}
